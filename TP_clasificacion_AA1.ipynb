{
  "nbformat": 4,
  "nbformat_minor": 0,
  "metadata": {
    "colab": {
      "provenance": []
    },
    "kernelspec": {
      "name": "python3",
      "display_name": "Python 3"
    },
    "language_info": {
      "name": "python"
    }
  },
  "cells": [
    {
      "cell_type": "markdown",
      "metadata": {
        "id": "TpC9VWhm2O9i"
      },
      "source": [
        "**TRABAJO PRÁCTICO 2 APRENDIZAJE AUTOMÁTICO I TUIA 2024**"
      ]
    },
    {
      "cell_type": "markdown",
      "metadata": {
        "id": "BILB2KiF2Xp3"
      },
      "source": [
        "INTEGRANTES:\n",
        "\n",
        "Herrera Morena (H-1187/8)\n",
        "\n",
        "Zorzolo Rubio Juana (Z-1217/3)"
      ]
    },
    {
      "cell_type": "markdown",
      "metadata": {
        "id": "d_XviWhu3cq_"
      },
      "source": [
        "# Carga de datos"
      ]
    },
    {
      "cell_type": "code",
      "execution_count": null,
      "metadata": {
        "id": "34h33i2B2JQv"
      },
      "outputs": [],
      "source": [
        "import pandas as pd\n",
        "import numpy as np\n",
        "import matplotlib.pyplot as plt\n",
        "import seaborn as sns\n",
        "from sklearn.impute import SimpleImputer\n",
        "from sklearn.preprocessing import PowerTransformer\n",
        "from sklearn.model_selection import train_test_split\n",
        "from sklearn.linear_model import LinearRegression, Ridge, Lasso, ElasticNet, RidgeCV, ElasticNetCV, LassoCV\n",
        "from sklearn.metrics import mean_squared_error, r2_score\n",
        "from sklearn.preprocessing import RobustScaler\n",
        "from sklearn.metrics import mean_absolute_error"
      ]
    },
    {
      "cell_type": "code",
      "source": [
        "!gdown \"12Cu0b2V5ggyQPBlE9DbV8MC3PS8nC5IO\" --output \"weatherAUS.csv\""
      ],
      "metadata": {
        "id": "LZHq7-l0MKr_",
        "colab": {
          "base_uri": "https://localhost:8080/"
        },
        "outputId": "93f8f3f3-6151-4a89-fff6-3cc9da37df46"
      },
      "execution_count": null,
      "outputs": [
        {
          "output_type": "stream",
          "name": "stdout",
          "text": [
            "Downloading...\n",
            "From: https://drive.google.com/uc?id=12Cu0b2V5ggyQPBlE9DbV8MC3PS8nC5IO\n",
            "To: /content/weatherAUS.csv\n",
            "\r  0% 0.00/14.1M [00:00<?, ?B/s]\r100% 14.1M/14.1M [00:00<00:00, 182MB/s]\n"
          ]
        }
      ]
    },
    {
      "cell_type": "code",
      "execution_count": null,
      "metadata": {
        "id": "4j6XKP7YD01V",
        "colab": {
          "base_uri": "https://localhost:8080/",
          "height": 256
        },
        "outputId": "b8759143-3932-4e03-fb67-3f7793d8fcd5"
      },
      "outputs": [
        {
          "output_type": "execute_result",
          "data": {
            "text/plain": [
              "         Date Location  MinTemp  MaxTemp  Rainfall  Evaporation  Sunshine  \\\n",
              "0  2008-12-01   Albury     13.4     22.9       0.6          NaN       NaN   \n",
              "1  2008-12-02   Albury      7.4     25.1       0.0          NaN       NaN   \n",
              "2  2008-12-03   Albury     12.9     25.7       0.0          NaN       NaN   \n",
              "3  2008-12-04   Albury      9.2     28.0       0.0          NaN       NaN   \n",
              "4  2008-12-05   Albury     17.5     32.3       1.0          NaN       NaN   \n",
              "\n",
              "  WindGustDir  WindGustSpeed WindDir9am  ... Humidity9am  Humidity3pm  \\\n",
              "0           W           44.0          W  ...        71.0         22.0   \n",
              "1         WNW           44.0        NNW  ...        44.0         25.0   \n",
              "2         WSW           46.0          W  ...        38.0         30.0   \n",
              "3          NE           24.0         SE  ...        45.0         16.0   \n",
              "4           W           41.0        ENE  ...        82.0         33.0   \n",
              "\n",
              "   Pressure9am  Pressure3pm  Cloud9am  Cloud3pm  Temp9am  Temp3pm  RainToday  \\\n",
              "0       1007.7       1007.1       8.0       NaN     16.9     21.8         No   \n",
              "1       1010.6       1007.8       NaN       NaN     17.2     24.3         No   \n",
              "2       1007.6       1008.7       NaN       2.0     21.0     23.2         No   \n",
              "3       1017.6       1012.8       NaN       NaN     18.1     26.5         No   \n",
              "4       1010.8       1006.0       7.0       8.0     17.8     29.7         No   \n",
              "\n",
              "   RainTomorrow  \n",
              "0            No  \n",
              "1            No  \n",
              "2            No  \n",
              "3            No  \n",
              "4            No  \n",
              "\n",
              "[5 rows x 23 columns]"
            ],
            "text/html": [
              "\n",
              "  <div id=\"df-9fe4e548-1ad0-410d-8b0e-5d31794d6a6c\" class=\"colab-df-container\">\n",
              "    <div>\n",
              "<style scoped>\n",
              "    .dataframe tbody tr th:only-of-type {\n",
              "        vertical-align: middle;\n",
              "    }\n",
              "\n",
              "    .dataframe tbody tr th {\n",
              "        vertical-align: top;\n",
              "    }\n",
              "\n",
              "    .dataframe thead th {\n",
              "        text-align: right;\n",
              "    }\n",
              "</style>\n",
              "<table border=\"1\" class=\"dataframe\">\n",
              "  <thead>\n",
              "    <tr style=\"text-align: right;\">\n",
              "      <th></th>\n",
              "      <th>Date</th>\n",
              "      <th>Location</th>\n",
              "      <th>MinTemp</th>\n",
              "      <th>MaxTemp</th>\n",
              "      <th>Rainfall</th>\n",
              "      <th>Evaporation</th>\n",
              "      <th>Sunshine</th>\n",
              "      <th>WindGustDir</th>\n",
              "      <th>WindGustSpeed</th>\n",
              "      <th>WindDir9am</th>\n",
              "      <th>...</th>\n",
              "      <th>Humidity9am</th>\n",
              "      <th>Humidity3pm</th>\n",
              "      <th>Pressure9am</th>\n",
              "      <th>Pressure3pm</th>\n",
              "      <th>Cloud9am</th>\n",
              "      <th>Cloud3pm</th>\n",
              "      <th>Temp9am</th>\n",
              "      <th>Temp3pm</th>\n",
              "      <th>RainToday</th>\n",
              "      <th>RainTomorrow</th>\n",
              "    </tr>\n",
              "  </thead>\n",
              "  <tbody>\n",
              "    <tr>\n",
              "      <th>0</th>\n",
              "      <td>2008-12-01</td>\n",
              "      <td>Albury</td>\n",
              "      <td>13.4</td>\n",
              "      <td>22.9</td>\n",
              "      <td>0.6</td>\n",
              "      <td>NaN</td>\n",
              "      <td>NaN</td>\n",
              "      <td>W</td>\n",
              "      <td>44.0</td>\n",
              "      <td>W</td>\n",
              "      <td>...</td>\n",
              "      <td>71.0</td>\n",
              "      <td>22.0</td>\n",
              "      <td>1007.7</td>\n",
              "      <td>1007.1</td>\n",
              "      <td>8.0</td>\n",
              "      <td>NaN</td>\n",
              "      <td>16.9</td>\n",
              "      <td>21.8</td>\n",
              "      <td>No</td>\n",
              "      <td>No</td>\n",
              "    </tr>\n",
              "    <tr>\n",
              "      <th>1</th>\n",
              "      <td>2008-12-02</td>\n",
              "      <td>Albury</td>\n",
              "      <td>7.4</td>\n",
              "      <td>25.1</td>\n",
              "      <td>0.0</td>\n",
              "      <td>NaN</td>\n",
              "      <td>NaN</td>\n",
              "      <td>WNW</td>\n",
              "      <td>44.0</td>\n",
              "      <td>NNW</td>\n",
              "      <td>...</td>\n",
              "      <td>44.0</td>\n",
              "      <td>25.0</td>\n",
              "      <td>1010.6</td>\n",
              "      <td>1007.8</td>\n",
              "      <td>NaN</td>\n",
              "      <td>NaN</td>\n",
              "      <td>17.2</td>\n",
              "      <td>24.3</td>\n",
              "      <td>No</td>\n",
              "      <td>No</td>\n",
              "    </tr>\n",
              "    <tr>\n",
              "      <th>2</th>\n",
              "      <td>2008-12-03</td>\n",
              "      <td>Albury</td>\n",
              "      <td>12.9</td>\n",
              "      <td>25.7</td>\n",
              "      <td>0.0</td>\n",
              "      <td>NaN</td>\n",
              "      <td>NaN</td>\n",
              "      <td>WSW</td>\n",
              "      <td>46.0</td>\n",
              "      <td>W</td>\n",
              "      <td>...</td>\n",
              "      <td>38.0</td>\n",
              "      <td>30.0</td>\n",
              "      <td>1007.6</td>\n",
              "      <td>1008.7</td>\n",
              "      <td>NaN</td>\n",
              "      <td>2.0</td>\n",
              "      <td>21.0</td>\n",
              "      <td>23.2</td>\n",
              "      <td>No</td>\n",
              "      <td>No</td>\n",
              "    </tr>\n",
              "    <tr>\n",
              "      <th>3</th>\n",
              "      <td>2008-12-04</td>\n",
              "      <td>Albury</td>\n",
              "      <td>9.2</td>\n",
              "      <td>28.0</td>\n",
              "      <td>0.0</td>\n",
              "      <td>NaN</td>\n",
              "      <td>NaN</td>\n",
              "      <td>NE</td>\n",
              "      <td>24.0</td>\n",
              "      <td>SE</td>\n",
              "      <td>...</td>\n",
              "      <td>45.0</td>\n",
              "      <td>16.0</td>\n",
              "      <td>1017.6</td>\n",
              "      <td>1012.8</td>\n",
              "      <td>NaN</td>\n",
              "      <td>NaN</td>\n",
              "      <td>18.1</td>\n",
              "      <td>26.5</td>\n",
              "      <td>No</td>\n",
              "      <td>No</td>\n",
              "    </tr>\n",
              "    <tr>\n",
              "      <th>4</th>\n",
              "      <td>2008-12-05</td>\n",
              "      <td>Albury</td>\n",
              "      <td>17.5</td>\n",
              "      <td>32.3</td>\n",
              "      <td>1.0</td>\n",
              "      <td>NaN</td>\n",
              "      <td>NaN</td>\n",
              "      <td>W</td>\n",
              "      <td>41.0</td>\n",
              "      <td>ENE</td>\n",
              "      <td>...</td>\n",
              "      <td>82.0</td>\n",
              "      <td>33.0</td>\n",
              "      <td>1010.8</td>\n",
              "      <td>1006.0</td>\n",
              "      <td>7.0</td>\n",
              "      <td>8.0</td>\n",
              "      <td>17.8</td>\n",
              "      <td>29.7</td>\n",
              "      <td>No</td>\n",
              "      <td>No</td>\n",
              "    </tr>\n",
              "  </tbody>\n",
              "</table>\n",
              "<p>5 rows × 23 columns</p>\n",
              "</div>\n",
              "    <div class=\"colab-df-buttons\">\n",
              "\n",
              "  <div class=\"colab-df-container\">\n",
              "    <button class=\"colab-df-convert\" onclick=\"convertToInteractive('df-9fe4e548-1ad0-410d-8b0e-5d31794d6a6c')\"\n",
              "            title=\"Convert this dataframe to an interactive table.\"\n",
              "            style=\"display:none;\">\n",
              "\n",
              "  <svg xmlns=\"http://www.w3.org/2000/svg\" height=\"24px\" viewBox=\"0 -960 960 960\">\n",
              "    <path d=\"M120-120v-720h720v720H120Zm60-500h600v-160H180v160Zm220 220h160v-160H400v160Zm0 220h160v-160H400v160ZM180-400h160v-160H180v160Zm440 0h160v-160H620v160ZM180-180h160v-160H180v160Zm440 0h160v-160H620v160Z\"/>\n",
              "  </svg>\n",
              "    </button>\n",
              "\n",
              "  <style>\n",
              "    .colab-df-container {\n",
              "      display:flex;\n",
              "      gap: 12px;\n",
              "    }\n",
              "\n",
              "    .colab-df-convert {\n",
              "      background-color: #E8F0FE;\n",
              "      border: none;\n",
              "      border-radius: 50%;\n",
              "      cursor: pointer;\n",
              "      display: none;\n",
              "      fill: #1967D2;\n",
              "      height: 32px;\n",
              "      padding: 0 0 0 0;\n",
              "      width: 32px;\n",
              "    }\n",
              "\n",
              "    .colab-df-convert:hover {\n",
              "      background-color: #E2EBFA;\n",
              "      box-shadow: 0px 1px 2px rgba(60, 64, 67, 0.3), 0px 1px 3px 1px rgba(60, 64, 67, 0.15);\n",
              "      fill: #174EA6;\n",
              "    }\n",
              "\n",
              "    .colab-df-buttons div {\n",
              "      margin-bottom: 4px;\n",
              "    }\n",
              "\n",
              "    [theme=dark] .colab-df-convert {\n",
              "      background-color: #3B4455;\n",
              "      fill: #D2E3FC;\n",
              "    }\n",
              "\n",
              "    [theme=dark] .colab-df-convert:hover {\n",
              "      background-color: #434B5C;\n",
              "      box-shadow: 0px 1px 3px 1px rgba(0, 0, 0, 0.15);\n",
              "      filter: drop-shadow(0px 1px 2px rgba(0, 0, 0, 0.3));\n",
              "      fill: #FFFFFF;\n",
              "    }\n",
              "  </style>\n",
              "\n",
              "    <script>\n",
              "      const buttonEl =\n",
              "        document.querySelector('#df-9fe4e548-1ad0-410d-8b0e-5d31794d6a6c button.colab-df-convert');\n",
              "      buttonEl.style.display =\n",
              "        google.colab.kernel.accessAllowed ? 'block' : 'none';\n",
              "\n",
              "      async function convertToInteractive(key) {\n",
              "        const element = document.querySelector('#df-9fe4e548-1ad0-410d-8b0e-5d31794d6a6c');\n",
              "        const dataTable =\n",
              "          await google.colab.kernel.invokeFunction('convertToInteractive',\n",
              "                                                    [key], {});\n",
              "        if (!dataTable) return;\n",
              "\n",
              "        const docLinkHtml = 'Like what you see? Visit the ' +\n",
              "          '<a target=\"_blank\" href=https://colab.research.google.com/notebooks/data_table.ipynb>data table notebook</a>'\n",
              "          + ' to learn more about interactive tables.';\n",
              "        element.innerHTML = '';\n",
              "        dataTable['output_type'] = 'display_data';\n",
              "        await google.colab.output.renderOutput(dataTable, element);\n",
              "        const docLink = document.createElement('div');\n",
              "        docLink.innerHTML = docLinkHtml;\n",
              "        element.appendChild(docLink);\n",
              "      }\n",
              "    </script>\n",
              "  </div>\n",
              "\n",
              "\n",
              "<div id=\"df-8fd2d972-5ca9-453d-bd63-715809be9a1a\">\n",
              "  <button class=\"colab-df-quickchart\" onclick=\"quickchart('df-8fd2d972-5ca9-453d-bd63-715809be9a1a')\"\n",
              "            title=\"Suggest charts\"\n",
              "            style=\"display:none;\">\n",
              "\n",
              "<svg xmlns=\"http://www.w3.org/2000/svg\" height=\"24px\"viewBox=\"0 0 24 24\"\n",
              "     width=\"24px\">\n",
              "    <g>\n",
              "        <path d=\"M19 3H5c-1.1 0-2 .9-2 2v14c0 1.1.9 2 2 2h14c1.1 0 2-.9 2-2V5c0-1.1-.9-2-2-2zM9 17H7v-7h2v7zm4 0h-2V7h2v10zm4 0h-2v-4h2v4z\"/>\n",
              "    </g>\n",
              "</svg>\n",
              "  </button>\n",
              "\n",
              "<style>\n",
              "  .colab-df-quickchart {\n",
              "      --bg-color: #E8F0FE;\n",
              "      --fill-color: #1967D2;\n",
              "      --hover-bg-color: #E2EBFA;\n",
              "      --hover-fill-color: #174EA6;\n",
              "      --disabled-fill-color: #AAA;\n",
              "      --disabled-bg-color: #DDD;\n",
              "  }\n",
              "\n",
              "  [theme=dark] .colab-df-quickchart {\n",
              "      --bg-color: #3B4455;\n",
              "      --fill-color: #D2E3FC;\n",
              "      --hover-bg-color: #434B5C;\n",
              "      --hover-fill-color: #FFFFFF;\n",
              "      --disabled-bg-color: #3B4455;\n",
              "      --disabled-fill-color: #666;\n",
              "  }\n",
              "\n",
              "  .colab-df-quickchart {\n",
              "    background-color: var(--bg-color);\n",
              "    border: none;\n",
              "    border-radius: 50%;\n",
              "    cursor: pointer;\n",
              "    display: none;\n",
              "    fill: var(--fill-color);\n",
              "    height: 32px;\n",
              "    padding: 0;\n",
              "    width: 32px;\n",
              "  }\n",
              "\n",
              "  .colab-df-quickchart:hover {\n",
              "    background-color: var(--hover-bg-color);\n",
              "    box-shadow: 0 1px 2px rgba(60, 64, 67, 0.3), 0 1px 3px 1px rgba(60, 64, 67, 0.15);\n",
              "    fill: var(--button-hover-fill-color);\n",
              "  }\n",
              "\n",
              "  .colab-df-quickchart-complete:disabled,\n",
              "  .colab-df-quickchart-complete:disabled:hover {\n",
              "    background-color: var(--disabled-bg-color);\n",
              "    fill: var(--disabled-fill-color);\n",
              "    box-shadow: none;\n",
              "  }\n",
              "\n",
              "  .colab-df-spinner {\n",
              "    border: 2px solid var(--fill-color);\n",
              "    border-color: transparent;\n",
              "    border-bottom-color: var(--fill-color);\n",
              "    animation:\n",
              "      spin 1s steps(1) infinite;\n",
              "  }\n",
              "\n",
              "  @keyframes spin {\n",
              "    0% {\n",
              "      border-color: transparent;\n",
              "      border-bottom-color: var(--fill-color);\n",
              "      border-left-color: var(--fill-color);\n",
              "    }\n",
              "    20% {\n",
              "      border-color: transparent;\n",
              "      border-left-color: var(--fill-color);\n",
              "      border-top-color: var(--fill-color);\n",
              "    }\n",
              "    30% {\n",
              "      border-color: transparent;\n",
              "      border-left-color: var(--fill-color);\n",
              "      border-top-color: var(--fill-color);\n",
              "      border-right-color: var(--fill-color);\n",
              "    }\n",
              "    40% {\n",
              "      border-color: transparent;\n",
              "      border-right-color: var(--fill-color);\n",
              "      border-top-color: var(--fill-color);\n",
              "    }\n",
              "    60% {\n",
              "      border-color: transparent;\n",
              "      border-right-color: var(--fill-color);\n",
              "    }\n",
              "    80% {\n",
              "      border-color: transparent;\n",
              "      border-right-color: var(--fill-color);\n",
              "      border-bottom-color: var(--fill-color);\n",
              "    }\n",
              "    90% {\n",
              "      border-color: transparent;\n",
              "      border-bottom-color: var(--fill-color);\n",
              "    }\n",
              "  }\n",
              "</style>\n",
              "\n",
              "  <script>\n",
              "    async function quickchart(key) {\n",
              "      const quickchartButtonEl =\n",
              "        document.querySelector('#' + key + ' button');\n",
              "      quickchartButtonEl.disabled = true;  // To prevent multiple clicks.\n",
              "      quickchartButtonEl.classList.add('colab-df-spinner');\n",
              "      try {\n",
              "        const charts = await google.colab.kernel.invokeFunction(\n",
              "            'suggestCharts', [key], {});\n",
              "      } catch (error) {\n",
              "        console.error('Error during call to suggestCharts:', error);\n",
              "      }\n",
              "      quickchartButtonEl.classList.remove('colab-df-spinner');\n",
              "      quickchartButtonEl.classList.add('colab-df-quickchart-complete');\n",
              "    }\n",
              "    (() => {\n",
              "      let quickchartButtonEl =\n",
              "        document.querySelector('#df-8fd2d972-5ca9-453d-bd63-715809be9a1a button');\n",
              "      quickchartButtonEl.style.display =\n",
              "        google.colab.kernel.accessAllowed ? 'block' : 'none';\n",
              "    })();\n",
              "  </script>\n",
              "</div>\n",
              "\n",
              "    </div>\n",
              "  </div>\n"
            ],
            "application/vnd.google.colaboratory.intrinsic+json": {
              "type": "dataframe",
              "variable_name": "df_weather"
            }
          },
          "metadata": {},
          "execution_count": 73
        }
      ],
      "source": [
        "df_weather = pd.read_csv('weatherAUS.csv')\n",
        "df_weather.head()"
      ]
    },
    {
      "cell_type": "code",
      "source": [
        "# seleccionar 10 ciudades aleatorias con random_state = 42 para siempre obtener los mismos resultados\n",
        "ciudades_aleatorias = df_weather['Location'].sample(n=10, random_state=42)\n",
        "print(ciudades_aleatorias)"
      ],
      "metadata": {
        "colab": {
          "base_uri": "https://localhost:8080/"
        },
        "id": "kt98_oaNaVcY",
        "outputId": "51c8416e-da9a-4732-bfbb-99f1c71153b3"
      },
      "execution_count": null,
      "outputs": [
        {
          "output_type": "stream",
          "name": "stdout",
          "text": [
            "100721    MountGambier\n",
            "30234           Sydney\n",
            "68427        Melbourne\n",
            "28624         Richmond\n",
            "31173           Sydney\n",
            "573             Albury\n",
            "120056    PerthAirport\n",
            "43057       Wollongong\n",
            "28966         Richmond\n",
            "90691        GoldCoast\n",
            "Name: Location, dtype: object\n"
          ]
        }
      ]
    },
    {
      "cell_type": "code",
      "source": [
        "df_weather = df_weather[df_weather['Location'].isin(ciudades_aleatorias)]\n",
        "df_weather['Location'].value_counts()"
      ],
      "metadata": {
        "colab": {
          "base_uri": "https://localhost:8080/",
          "height": 366
        },
        "id": "awxnpbbMbRqb",
        "outputId": "691337ee-4bfe-4486-ce40-a7af5e34144d"
      },
      "execution_count": null,
      "outputs": [
        {
          "output_type": "execute_result",
          "data": {
            "text/plain": [
              "Location\n",
              "Sydney          3344\n",
              "Melbourne       3193\n",
              "Albury          3040\n",
              "Wollongong      3040\n",
              "GoldCoast       3040\n",
              "MountGambier    3040\n",
              "Richmond        3009\n",
              "PerthAirport    3009\n",
              "Name: count, dtype: int64"
            ],
            "text/html": [
              "<div>\n",
              "<style scoped>\n",
              "    .dataframe tbody tr th:only-of-type {\n",
              "        vertical-align: middle;\n",
              "    }\n",
              "\n",
              "    .dataframe tbody tr th {\n",
              "        vertical-align: top;\n",
              "    }\n",
              "\n",
              "    .dataframe thead th {\n",
              "        text-align: right;\n",
              "    }\n",
              "</style>\n",
              "<table border=\"1\" class=\"dataframe\">\n",
              "  <thead>\n",
              "    <tr style=\"text-align: right;\">\n",
              "      <th></th>\n",
              "      <th>count</th>\n",
              "    </tr>\n",
              "    <tr>\n",
              "      <th>Location</th>\n",
              "      <th></th>\n",
              "    </tr>\n",
              "  </thead>\n",
              "  <tbody>\n",
              "    <tr>\n",
              "      <th>Sydney</th>\n",
              "      <td>3344</td>\n",
              "    </tr>\n",
              "    <tr>\n",
              "      <th>Melbourne</th>\n",
              "      <td>3193</td>\n",
              "    </tr>\n",
              "    <tr>\n",
              "      <th>Albury</th>\n",
              "      <td>3040</td>\n",
              "    </tr>\n",
              "    <tr>\n",
              "      <th>Wollongong</th>\n",
              "      <td>3040</td>\n",
              "    </tr>\n",
              "    <tr>\n",
              "      <th>GoldCoast</th>\n",
              "      <td>3040</td>\n",
              "    </tr>\n",
              "    <tr>\n",
              "      <th>MountGambier</th>\n",
              "      <td>3040</td>\n",
              "    </tr>\n",
              "    <tr>\n",
              "      <th>Richmond</th>\n",
              "      <td>3009</td>\n",
              "    </tr>\n",
              "    <tr>\n",
              "      <th>PerthAirport</th>\n",
              "      <td>3009</td>\n",
              "    </tr>\n",
              "  </tbody>\n",
              "</table>\n",
              "</div><br><label><b>dtype:</b> int64</label>"
            ]
          },
          "metadata": {},
          "execution_count": 76
        }
      ]
    },
    {
      "cell_type": "markdown",
      "source": [
        "# Codificación de variables"
      ],
      "metadata": {
        "id": "oit2xqX9jJFI"
      }
    },
    {
      "cell_type": "code",
      "source": [
        "df_weather.info()"
      ],
      "metadata": {
        "colab": {
          "base_uri": "https://localhost:8080/"
        },
        "id": "AChjb9ZTj-lz",
        "outputId": "be33c05c-5653-4cad-c10c-16cbedcde9d3"
      },
      "execution_count": null,
      "outputs": [
        {
          "output_type": "stream",
          "name": "stdout",
          "text": [
            "<class 'pandas.core.frame.DataFrame'>\n",
            "Index: 24715 entries, 0 to 120637\n",
            "Data columns (total 23 columns):\n",
            " #   Column         Non-Null Count  Dtype  \n",
            "---  ------         --------------  -----  \n",
            " 0   Date           24715 non-null  object \n",
            " 1   Location       24715 non-null  object \n",
            " 2   MinTemp        24180 non-null  float64\n",
            " 3   MaxTemp        24184 non-null  float64\n",
            " 4   Rainfall       23736 non-null  float64\n",
            " 5   Evaporation    13745 non-null  float64\n",
            " 6   Sunshine       12121 non-null  float64\n",
            " 7   WindGustDir    23307 non-null  object \n",
            " 8   WindGustSpeed  23310 non-null  float64\n",
            " 9   WindDir9am     22917 non-null  object \n",
            " 10  WindDir3pm     24414 non-null  object \n",
            " 11  WindSpeed9am   24552 non-null  float64\n",
            " 12  WindSpeed3pm   24571 non-null  float64\n",
            " 13  Humidity9am    24095 non-null  float64\n",
            " 14  Humidity3pm    24094 non-null  float64\n",
            " 15  Pressure9am    24125 non-null  float64\n",
            " 16  Pressure3pm    24144 non-null  float64\n",
            " 17  Cloud9am       14111 non-null  float64\n",
            " 18  Cloud3pm       14229 non-null  float64\n",
            " 19  Temp9am        24148 non-null  float64\n",
            " 20  Temp3pm        24141 non-null  float64\n",
            " 21  RainToday      23736 non-null  object \n",
            " 22  RainTomorrow   23736 non-null  object \n",
            "dtypes: float64(16), object(7)\n",
            "memory usage: 4.5+ MB\n"
          ]
        }
      ]
    },
    {
      "cell_type": "code",
      "source": [
        "df_weather['Date'] = pd.to_datetime(df_weather['Date'])\n",
        "df_weather['Location'] = df_weather['Location'].astype('category')\n",
        "df_weather['WindDir9am'] = df_weather['WindDir9am'].astype('category')\n",
        "df_weather['WindDir3pm'] = df_weather['WindDir3pm'].astype('category')\n",
        "df_weather['WindGustDir'] = df_weather['WindGustDir'].astype('category')\n",
        "df_weather['RainToday'] = df_weather['RainToday'].map({'Yes': 1, 'No': 0})\n",
        "df_weather['RainTomorrow'] = df_weather['RainTomorrow'].map({'Yes': 1, 'No': 0})"
      ],
      "metadata": {
        "id": "OvEuuPWmjXN0"
      },
      "execution_count": null,
      "outputs": []
    },
    {
      "cell_type": "markdown",
      "metadata": {
        "id": "aLXclGUqGc7b"
      },
      "source": [
        "# Partición de datos"
      ]
    },
    {
      "cell_type": "markdown",
      "metadata": {
        "id": "Ty0Okd-93kyP"
      },
      "source": [
        "Se decidió realizar la validación cruzada train-test antes de la limpieza y análisis del conjunto de datos ya que así aseguramos que el modelo evalúe de manera justa en datos que nunca ha visto durante el entrenamiento. El objetivo es simular cómo se comportaría el modelo con datos reales, fuera del entorno controlado."
      ]
    },
    {
      "cell_type": "markdown",
      "metadata": {
        "id": "ZnHOGWddPdpx"
      },
      "source": [
        "Separamos las variables independientes (X) de la variable dependiente (y), que en nuestro trabajo es la variable MEDV (a quien queremos predecir)."
      ]
    },
    {
      "cell_type": "code",
      "execution_count": null,
      "metadata": {
        "id": "WK8Sd8cWzL2T"
      },
      "outputs": [],
      "source": [
        "X = df_weather.drop(\"RainTomorrow\", axis=1)\n",
        "y = df_weather[\"RainTomorrow\"]"
      ]
    },
    {
      "cell_type": "markdown",
      "metadata": {
        "id": "-Tfds7ojPugs"
      },
      "source": [
        "Dividimos también los datos en TRAIN y TEST, fundamental para poder entrenar nuestro modelo y luego testearlo.\n",
        "\n",
        "Decidimos separar un 80% para entrenamiento, y el 20% restante para prueba."
      ]
    },
    {
      "cell_type": "code",
      "execution_count": null,
      "metadata": {
        "id": "-nrbqFQYzH5i"
      },
      "outputs": [],
      "source": [
        "X_train, X_test, y_train, y_test = train_test_split(X, y, test_size=0.2, random_state=42)"
      ]
    },
    {
      "cell_type": "code",
      "execution_count": null,
      "metadata": {
        "colab": {
          "base_uri": "https://localhost:8080/"
        },
        "id": "vVQMbIQL12Kv",
        "outputId": "10b035fa-4bdc-4ef5-84df-e2ea13a67d15"
      },
      "outputs": [
        {
          "output_type": "execute_result",
          "data": {
            "text/plain": [
              "((19772, 22), (4943, 22), (19772,), (4943,))"
            ]
          },
          "metadata": {},
          "execution_count": 81
        }
      ],
      "source": [
        "X_train.shape, X_test.shape, y_train.shape, y_test.shape"
      ]
    },
    {
      "cell_type": "code",
      "execution_count": null,
      "metadata": {
        "id": "LgWTrNtlHKMI"
      },
      "outputs": [],
      "source": [
        "# Combinamos los datas de entrenamiento y los de testeo para mayor facilidad al momento de trabajarlos\n",
        "df_train = pd.concat([X_train, y_train], axis=1)\n",
        "df_test = pd.concat([X_test, y_test], axis=1)"
      ]
    },
    {
      "cell_type": "markdown",
      "source": [
        "# Limpieza de datos"
      ],
      "metadata": {
        "id": "asNluL-DdKMo"
      }
    },
    {
      "cell_type": "markdown",
      "source": [
        "## Valores nulos"
      ],
      "metadata": {
        "id": "WISP4h1QdOkL"
      }
    },
    {
      "cell_type": "markdown",
      "source": [
        "### Para df_train"
      ],
      "metadata": {
        "id": "DPz3Gl7ZdZX-"
      }
    },
    {
      "cell_type": "code",
      "source": [
        "filas_nan = df_train[df_train.isna().sum(axis=1) > 15]\n",
        "q_filas_nan = len(filas_nan)\n",
        "df_train = df_train.dropna(thresh=df_train.shape[1] - 15)"
      ],
      "metadata": {
        "id": "1SpmbgdJfTCn"
      },
      "execution_count": null,
      "outputs": []
    },
    {
      "cell_type": "code",
      "source": [
        "df_train['RainToday'] = df_train['RainToday'].fillna(df_train['RainToday'].mode().iloc[0])\n",
        "df_train['RainTomorrow'] = df_train['RainTomorrow'].fillna(df_train['RainTomorrow'].mode().iloc[0])\n",
        "df_train['WindDir9am'] = df_train['WindDir9am'].fillna(df_train['WindDir9am'].mode().iloc[0])\n",
        "df_train['WindDir3pm'] = df_train['WindDir3pm'].fillna(df_train['WindDir3pm'].mode().iloc[0])\n",
        "df_train['WindGustDir'] = df_train['WindGustDir'].fillna(df_train['WindGustDir'].mode().iloc[0])\n",
        "df_train.info()"
      ],
      "metadata": {
        "colab": {
          "base_uri": "https://localhost:8080/"
        },
        "id": "8CjdM_ahgYtz",
        "outputId": "d7d18ad3-2302-4aa9-f7c1-037cf009c696"
      },
      "execution_count": null,
      "outputs": [
        {
          "output_type": "stream",
          "name": "stdout",
          "text": [
            "<class 'pandas.core.frame.DataFrame'>\n",
            "Index: 19755 entries, 93147 to 119577\n",
            "Data columns (total 23 columns):\n",
            " #   Column         Non-Null Count  Dtype         \n",
            "---  ------         --------------  -----         \n",
            " 0   Date           19755 non-null  datetime64[ns]\n",
            " 1   Location       19755 non-null  category      \n",
            " 2   MinTemp        19343 non-null  float64       \n",
            " 3   MaxTemp        19347 non-null  float64       \n",
            " 4   Rainfall       19005 non-null  float64       \n",
            " 5   Evaporation    10963 non-null  float64       \n",
            " 6   Sunshine       9680 non-null   float64       \n",
            " 7   WindGustDir    19755 non-null  category      \n",
            " 8   WindGustSpeed  18655 non-null  float64       \n",
            " 9   WindDir9am     19755 non-null  category      \n",
            " 10  WindDir3pm     19755 non-null  category      \n",
            " 11  WindSpeed9am   19641 non-null  float64       \n",
            " 12  WindSpeed3pm   19652 non-null  float64       \n",
            " 13  Humidity9am    19282 non-null  float64       \n",
            " 14  Humidity3pm    19283 non-null  float64       \n",
            " 15  Pressure9am    19298 non-null  float64       \n",
            " 16  Pressure3pm    19314 non-null  float64       \n",
            " 17  Cloud9am       11293 non-null  float64       \n",
            " 18  Cloud3pm       11376 non-null  float64       \n",
            " 19  Temp9am        19326 non-null  float64       \n",
            " 20  Temp3pm        19320 non-null  float64       \n",
            " 21  RainToday      19755 non-null  float64       \n",
            " 22  RainTomorrow   19755 non-null  float64       \n",
            "dtypes: category(4), datetime64[ns](1), float64(18)\n",
            "memory usage: 3.1 MB\n"
          ]
        }
      ]
    },
    {
      "cell_type": "markdown",
      "source": [
        "### Para df_test"
      ],
      "metadata": {
        "id": "CfsP74sHdZ_8"
      }
    },
    {
      "cell_type": "code",
      "source": [
        "filas_nan = df_test[df_test.isna().sum(axis=1) > 15]\n",
        "q_filas_nan = len(filas_nan)\n",
        "df_test = df_test.dropna(thresh=df_test.shape[1] - 15)"
      ],
      "metadata": {
        "id": "HdO8vnx9gLlx"
      },
      "execution_count": null,
      "outputs": []
    },
    {
      "cell_type": "code",
      "source": [
        "df_test['RainToday'] = df_test['RainToday'].fillna(df_test['RainToday'].mode().iloc[0])\n",
        "df_test['RainTomorrow'] = df_test['RainTomorrow'].fillna(df_test['RainTomorrow'].mode().iloc[0])\n",
        "df_test['WindDir9am'] = df_test['WindDir9am'].fillna(df_test['WindDir9am'].mode().iloc[0])\n",
        "df_test['WindDir3pm'] = df_test['WindDir3pm'].fillna(df_test['WindDir3pm'].mode().iloc[0])\n",
        "df_test.info()"
      ],
      "metadata": {
        "colab": {
          "base_uri": "https://localhost:8080/"
        },
        "id": "kyd4q2eAhRUW",
        "outputId": "9793b28c-56eb-4173-eb4c-432f97f870e7"
      },
      "execution_count": null,
      "outputs": [
        {
          "output_type": "stream",
          "name": "stdout",
          "text": [
            "<class 'pandas.core.frame.DataFrame'>\n",
            "Index: 4940 entries, 28233 to 101579\n",
            "Data columns (total 23 columns):\n",
            " #   Column         Non-Null Count  Dtype         \n",
            "---  ------         --------------  -----         \n",
            " 0   Date           4940 non-null   datetime64[ns]\n",
            " 1   Location       4940 non-null   category      \n",
            " 2   MinTemp        4829 non-null   float64       \n",
            " 3   MaxTemp        4830 non-null   float64       \n",
            " 4   Rainfall       4730 non-null   float64       \n",
            " 5   Evaporation    2781 non-null   float64       \n",
            " 6   Sunshine       2441 non-null   float64       \n",
            " 7   WindGustDir    4648 non-null   category      \n",
            " 8   WindGustSpeed  4649 non-null   float64       \n",
            " 9   WindDir9am     4940 non-null   category      \n",
            " 10  WindDir3pm     4940 non-null   category      \n",
            " 11  WindSpeed9am   4911 non-null   float64       \n",
            " 12  WindSpeed3pm   4918 non-null   float64       \n",
            " 13  Humidity9am    4813 non-null   float64       \n",
            " 14  Humidity3pm    4810 non-null   float64       \n",
            " 15  Pressure9am    4823 non-null   float64       \n",
            " 16  Pressure3pm    4825 non-null   float64       \n",
            " 17  Cloud9am       2818 non-null   float64       \n",
            " 18  Cloud3pm       2853 non-null   float64       \n",
            " 19  Temp9am        4822 non-null   float64       \n",
            " 20  Temp3pm        4820 non-null   float64       \n",
            " 21  RainToday      4940 non-null   float64       \n",
            " 22  RainTomorrow   4940 non-null   float64       \n",
            "dtypes: category(4), datetime64[ns](1), float64(18)\n",
            "memory usage: 793.5 KB\n"
          ]
        }
      ]
    },
    {
      "cell_type": "markdown",
      "source": [
        "## Valores atípicos"
      ],
      "metadata": {
        "id": "yyJRKBABdQ2W"
      }
    },
    {
      "cell_type": "markdown",
      "source": [
        "### Para df_train"
      ],
      "metadata": {
        "id": "Kf6LqfPKdUyK"
      }
    },
    {
      "cell_type": "code",
      "source": [
        "df_train.boxplot(figsize=(15, 10))\n",
        "plt.show()"
      ],
      "metadata": {
        "colab": {
          "base_uri": "https://localhost:8080/",
          "height": 54
        },
        "collapsed": true,
        "id": "0smsu8tqeAo7",
        "outputId": "73afab58-68d4-4706-a588-b2e28ffe80b5"
      },
      "execution_count": null,
      "outputs": [
        {
          "output_type": "display_data",
          "data": {
            "text/plain": [
              "<Figure size 1500x1000 with 1 Axes>"
            ],
            "image/png": "[encoded data removed]"
          },
          "metadata": {}
        }
      ]
    },
    {
      "cell_type": "markdown",
      "source": [
        "### Para df_test"
      ],
      "metadata": {
        "id": "I6bOQeQfdXu9"
      }
    },
    {
      "cell_type": "code",
      "source": [
        "df_test.boxplot(figsize=(15, 10))\n",
        "plt.show()"
      ],
      "metadata": {
        "colab": {
          "base_uri": "https://localhost:8080/",
          "height": 54
        },
        "collapsed": true,
        "id": "HqcDZ050eLdQ",
        "outputId": "f1dcbcae-662f-4bcc-a4b4-40b08ee96a94"
      },
      "execution_count": null,
      "outputs": [
        {
          "output_type": "display_data",
          "data": {
            "text/plain": [
              "<Figure size 1500x1000 with 1 Axes>"
            ],
            "image/png": "[encoded data removed]"
          },
          "metadata": {}
        }
      ]
    },
    {
      "cell_type": "markdown",
      "source": [
        "## Escalado de datos"
      ],
      "metadata": {
        "id": "HI92kbk0dfOC"
      }
    },
    {
      "cell_type": "markdown",
      "source": [
        "### Para df_train"
      ],
      "metadata": {
        "id": "znpFUxNidli_"
      }
    },
    {
      "cell_type": "markdown",
      "source": [
        "### Para df_test"
      ],
      "metadata": {
        "id": "I262OvDPdljJ"
      }
    }
  ]
}